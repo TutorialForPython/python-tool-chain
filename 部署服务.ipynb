{
 "cells": [
  {
   "cell_type": "markdown",
   "metadata": {},
   "source": [
    "# 部署服务\n",
    "\n",
    "python有一套完善的项目部署方案,从打包到环境隔离,再到监控,一应俱全.如果没有特殊需求,完全可以跳过容器直接使用.当然了如果运维希望使用docker这类容器部署以限制各个项目的资源使用量时,得益于`zipapp`和`pip`,python也同样简单易于部署.\n",
    "\n",
    "\n",
    "## 打包与分发\n",
    "\n",
    "python3.5提供了一种打包分发的方式--`zipapp`(PEP 441).它可以将写好的项目打包成`.pyz`文件,这样就可以简单的将项目四处分发了.注意,这种方式最好是打包纯python代码,这样不容易因为平台不同而出现无法使用的情况.如果有c扩展,那么最好单独抽出来写成模块利用pip单独安装.\n",
    "\n",
    "`.pyz`文件并不能独立运行,依然依赖python环境.因此如果不用`docker`打包的话最好使用虚拟环境让项目在虚拟环境中运行.\n",
    "\n",
    "\n",
    "`zipapp`的用法如下:\n",
    "\n",
    "\n",
    "```\n",
    "python -m zipapp myapp -m \"myapp:main\" \n",
    "```\n",
    "\n",
    "`myapp`是一个项目文件夹,并非模块,我们使用`-m`指定使用其中的哪个模块的哪个方法作为入口\n",
    "\n",
    "同时也可以使用`-p`指定一个字符串作为`Shebang`\n",
    "\n",
    "```\n",
    "python -m zipapp myapp -m \"myapp:main\" -p \"/user/bin/env python3\"\n",
    "```\n",
    "\n",
    "`zipapp`本质是一个用zip打包项目的工具,它的定位其实是简化版`jar`.一个打包好的二进制文件远比文件夹好分发使用.这也是go语言的核心竞争力之一.现在python有了这样一个工具,虽然使用起来还是要配合虚拟机和pip包管理工具,但已经很够用了.\n",
    "\n",
    "\n",
    "## 使用虚拟环境部署\n",
    "\n",
    "项目部署运行时不可能通过常规手段激活虚拟环境.而事实上也不需要,其实要使用虚拟环境只要指定好用虚拟环境的python解释器运行项目了.比如有个虚拟环境建在`~/VENV`文件夹.那么就可以直接使用这个文件夹下的python解释器直接使用.\n",
    "\n",
    "`~/VENV/bin/python myapp.pyz`\n",
    "\n",
    "## `*`批量部署\n",
    "\n",
    "python的运维神器[fabric](http://docs.fabfile.org/en/1.13/),用它可以实现对远程服务器的批量部署操作\n",
    "\n",
    "一些使用方法和心得可以看[我的博客](http://blog.hszofficial.site/Fabric_study/)\n",
    "\n",
    "## `*`服务监控\n",
    "\n",
    "python的另一运维神器[supervisor](http://supervisord.org/),配合[cesi](https://github.com/gamegos/cesi)可以很好的监控管理项目进程.具体的可以看我的[这篇博文](http://blog.hszofficial.site/basic_DevOps_tools/Supervisor.html)\n"
   ]
  }
 ],
 "metadata": {
  "kernelspec": {
   "display_name": "Python 3",
   "language": "python",
   "name": "python3"
  },
  "language_info": {
   "codemirror_mode": {
    "name": "ipython",
    "version": 3
   },
   "file_extension": ".py",
   "mimetype": "text/x-python",
   "name": "python",
   "nbconvert_exporter": "python",
   "pygments_lexer": "ipython3",
   "version": "3.6.4"
  }
 },
 "nbformat": 4,
 "nbformat_minor": 2
}
